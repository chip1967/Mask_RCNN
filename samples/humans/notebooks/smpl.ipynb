{
 "cells": [
  {
   "cell_type": "code",
   "execution_count": null,
   "metadata": {},
   "outputs": [],
   "source": [
    "import os\n",
    "import sys\n",
    "import matplotlib\n",
    "import numpy as np\n",
    "import matplotlib.pyplot as plt\n",
    "import matplotlib.gridspec as gridspec\n",
    "import tensorflow as tf\n",
    "%matplotlib inline \n",
    "import logging\n"
   ]
  },
  {
   "cell_type": "code",
   "execution_count": 104,
   "metadata": {},
   "outputs": [
    {
     "name": "stdout",
     "output_type": "stream",
     "text": [
      "2018-11-13 11:13:30,550 DEBUG root : Logging enabled\n"
     ]
    }
   ],
   "source": [
    "FORMAT = '%(asctime)-15s %(levelname)s %(name)s : %(message)s'\n",
    "logging.basicConfig(level=logging.DEBUG, format=FORMAT, stream=sys.stdout )\n",
    "logging.debug(\"Logging enabled\")\n",
    "ROOT_DIR = os.path.abspath(\"../../../\")\n",
    "sys.path.append(ROOT_DIR)\n",
    "HUMAN_DIR = os.path.abspath(\"../\")\n",
    "sys.path.append(HUMAN_DIR)\n",
    "sys.path.append(os.path.join(ROOT_DIR, \"opendr\"))\n",
    "MODEL_DIR = os.path.abspath(os.path.join(ROOT_DIR, \"../Models\"))\n",
    "DATA_DIR  = os.path.abspath(os.path.join(ROOT_DIR, \"../Data\"))\n",
    "COCO_DIR  = os.path.abspath(os.path.join(DATA_DIR, \"coco\"))\n",
    "OCCLUDE_DIR  = os.path.abspath(os.path.join(DATA_DIR, \"VOCdevkit/VOC2012\"))\n",
    "import tf_smpl.batch_smpl as batch_smpl\n",
    "import tf_smpl.projection as tf_projection\n",
    "from smpl.renderer import *\n"
   ]
  },
  {
   "cell_type": "code",
   "execution_count": 105,
   "metadata": {},
   "outputs": [],
   "source": [
    "smpl = batch_smpl.SMPL(os.path.join(DATA_DIR, \"smpl-models\", \"model_neutral_np.pkl\"))\n",
    "renderer = SMPLRenderer(face_path=os.path.join(ROOT_DIR, \"tf_smpl\", \"smpl_faces.npy\"))"
   ]
  },
  {
   "cell_type": "code",
   "execution_count": 106,
   "metadata": {},
   "outputs": [],
   "source": [
    "sess = tf.Session()\n",
    "pos = np.zeros((1,10), dtype='float32')\n",
    "ang = np.zeros((1,72), dtype='float32')\n",
    "pos[0,4] = 1.0\n",
    "ang[0,10] = 20.0\n",
    "verts, joints, Rs = smpl(pos, ang, get_skin=True)\n",
    "sess = tf.Session()\n",
    "verts, joints, Rs = sess.run([verts, joints, Rs])\n",
    "sess.close()"
   ]
  },
  {
   "cell_type": "code",
   "execution_count": 260,
   "metadata": {},
   "outputs": [],
   "source": [
    "offset_val = 4\n",
    "offset = [0,0,offset_val]\n",
    "pos = np.zeros((1,10), dtype='float32')\n",
    "ang = np.zeros((1,72), dtype='float32')\n",
    "pos[0,4] = 0.0\n",
    "ang[0,10] = 1.0\n",
    "verts, joints, Rs = smpl(pos, ang, get_skin=True)\n",
    "#tf_cam = tf.convert_to_tensor([cam])\n",
    "#p_joints = tf_projection.batch_orth_proj_idrot(joints + offset, tf_cam)\n",
    "sess = tf.Session()\n",
    "verts, joints, Rs = sess.run([verts, joints, Rs])\n",
    "sess.close()"
   ]
  },
  {
   "cell_type": "markdown",
   "metadata": {},
   "source": [
    "The `image_size` below makes no difference to the rendered image. So the vertices are effectively scaled to the image size"
   ]
  },
  {
   "cell_type": "code",
   "execution_count": 261,
   "metadata": {},
   "outputs": [
    {
     "name": "stdout",
     "output_type": "stream",
     "text": [
      "2018-11-13 13:26:47,943 INFO opendr.lighting : LambertianPointLight using auto-normals. This will be slow for derivative-free computations.\n",
      "2018-11-13 13:26:47,953 INFO opendr.lighting : LambertianPointLight using auto-normals. This will be slow for derivative-free computations.\n",
      "2018-11-13 13:26:47,964 INFO opendr.lighting : LambertianPointLight using auto-normals. This will be slow for derivative-free computations.\n"
     ]
    },
    {
     "data": {
      "text/plain": [
       "<matplotlib.image.AxesImage at 0x7fa5f47dd410>"
      ]
     },
     "execution_count": 261,
     "metadata": {},
     "output_type": "execute_result"
    },
    {
     "data": {
      "image/png": "[encoded data removed]",
      "text/plain": [
       "<Figure size 432x288 with 1 Axes>"
      ]
     },
     "metadata": {},
     "output_type": "display_data"
    }
   ],
   "source": [
    "image_size = 400\n",
    "cam = [1.5*image_size, image_size/2, image_size/2]\n",
    "r_verts = renderer(verts[0,:,:] + offset,do_alpha=True, cam=cam, img_size=[image_size,image_size])\n",
    "plt.imshow(r_verts)"
   ]
  },
  {
   "cell_type": "code",
   "execution_count": 276,
   "metadata": {},
   "outputs": [
    {
     "data": {
      "text/plain": [
       "<matplotlib.image.AxesImage at 0x7fa5f4013890>"
      ]
     },
     "execution_count": 276,
     "metadata": {},
     "output_type": "execute_result"
    },
    {
     "data": {
      "image/png": "[encoded data removed]",
      "text/plain": [
       "<Figure size 432x288 with 1 Axes>"
      ]
     },
     "metadata": {},
     "output_type": "display_data"
    }
   ],
   "source": [
    "import cv2\n",
    "cameraMatrix = np.array([[cam[0],0,cam[1]],[0,cam[0],cam[2]],[0,0,1]])\n",
    "rvec = np.array([0,0,0], np.float) # rotation vector\n",
    "tvec = np.array([0,0,0], np.float) # translation vector\n",
    "r_verts2,_ = cv2.projectPoints(joints[0,:,:] + offset, rvec, tvec, cameraMatrix, None)\n",
    "plt.scatter(r_verts2[:,0,0],r_verts2[:,0,1])\n",
    "plt.imshow(r_verts)\n"
   ]
  },
  {
   "cell_type": "markdown",
   "metadata": {},
   "source": [
    "https://en.wikipedia.org/wiki/3D_projection\n",
    "\n",
    "formula for 3d projection\n",
    "\n"
   ]
  },
  {
   "cell_type": "code",
   "execution_count": 235,
   "metadata": {},
   "outputs": [
    {
     "data": {
      "text/plain": [
       "array([[-1.15119956e-01, -1.11560500e+00,  3.95810295e+00],\n",
       "       [-9.86113548e-02, -6.50696993e-01,  4.03326867e+00],\n",
       "       [-1.34750873e-01, -2.01044649e-01,  4.03973653e+00],\n",
       "       [ 1.33026466e-01, -2.00860709e-01,  4.03343719e+00],\n",
       "       [ 9.58140492e-02, -6.51474357e-01,  4.03842884e+00],\n",
       "       [ 1.13484249e-01, -1.11643314e+00,  3.95766565e+00],\n",
       "       [-4.17657763e-01,  2.18479991e-01,  4.55453551e+00],\n",
       "       [-2.70722508e-01,  2.27642000e-01,  4.32616997e+00],\n",
       "       [-9.18335468e-02,  2.46046901e-01,  4.10214136e+00],\n",
       "       [ 5.91492280e-02,  2.48013824e-01,  3.86988187e+00],\n",
       "       [ 1.86706498e-01,  2.27898017e-01,  3.61832684e+00],\n",
       "       [ 3.32505167e-01,  2.20434502e-01,  3.38899308e+00],\n",
       "       [-4.28962335e-03,  2.87273020e-01,  3.99429693e+00],\n",
       "       [-1.59349747e-03,  4.91487056e-01,  3.99812335e+00],\n",
       "       [ 1.12364456e-01,  4.12450135e-01,  4.07007995e+00],\n",
       "       [ 9.84206125e-02,  4.47817653e-01,  4.02174813e+00],\n",
       "       [ 6.12884127e-02,  4.47106242e-01,  4.07694030e+00],\n",
       "       [ 4.32595536e-02,  4.21132058e-01,  3.93879486e+00],\n",
       "       [-3.78615744e-02,  4.18590814e-01,  4.06070767e+00]])"
      ]
     },
     "execution_count": 235,
     "metadata": {},
     "output_type": "execute_result"
    }
   ],
   "source": []
  },
  {
   "cell_type": "code",
   "execution_count": null,
   "metadata": {},
   "outputs": [],
   "source": [
    "    "
   ]
  },
  {
   "cell_type": "code",
   "execution_count": 228,
   "metadata": {},
   "outputs": [
    {
     "data": {
      "text/plain": [
       "(0.49148706, 0.4591605)"
      ]
     },
     "execution_count": 228,
     "metadata": {},
     "output_type": "execute_result"
    }
   ],
   "source": []
  },
  {
   "cell_type": "code",
   "execution_count": 213,
   "metadata": {},
   "outputs": [
    {
     "data": {
      "text/plain": [
       "array([[[ 0.57732004, -0.9234075 ],\n",
       "        [ 0.60208297, -0.22604549],\n",
       "        [ 0.5478737 ,  0.44843304],\n",
       "        [ 0.9495397 ,  0.44870895],\n",
       "        [ 0.8937211 , -0.22721153],\n",
       "        [ 0.9202264 , -0.9246497 ],\n",
       "        [ 0.12351336,  1.0777199 ],\n",
       "        [ 0.34391624,  1.091463  ],\n",
       "        [ 0.61224973,  1.1190703 ],\n",
       "        [ 0.8387238 ,  1.1220207 ],\n",
       "        [ 1.0300597 ,  1.091847  ],\n",
       "        [ 1.2487577 ,  1.0806518 ],\n",
       "        [ 0.74356556,  1.1809096 ],\n",
       "        [ 0.74760973,  1.4872305 ],\n",
       "        [ 0.9185467 ,  1.3686752 ],\n",
       "        [ 0.89763093,  1.4217265 ],\n",
       "        [ 0.84193265,  1.4206593 ],\n",
       "        [ 0.8148893 ,  1.3816981 ],\n",
       "        [ 0.6932076 ,  1.3778862 ]]], dtype=float32)"
      ]
     },
     "execution_count": 213,
     "metadata": {},
     "output_type": "execute_result"
    }
   ],
   "source": []
  },
  {
   "cell_type": "code",
   "execution_count": null,
   "metadata": {},
   "outputs": [],
   "source": []
  },
  {
   "cell_type": "code",
   "execution_count": null,
   "metadata": {},
   "outputs": [],
   "source": []
  },
  {
   "cell_type": "code",
   "execution_count": 3,
   "metadata": {},
   "outputs": [],
   "source": []
  },
  {
   "cell_type": "code",
   "execution_count": 4,
   "metadata": {},
   "outputs": [],
   "source": [
    "\n"
   ]
  },
  {
   "cell_type": "code",
   "execution_count": 20,
   "metadata": {},
   "outputs": [],
   "source": []
  },
  {
   "cell_type": "code",
   "execution_count": 99,
   "metadata": {},
   "outputs": [],
   "source": []
  },
  {
   "cell_type": "code",
   "execution_count": 100,
   "metadata": {},
   "outputs": [
    {
     "name": "stdout",
     "output_type": "stream",
     "text": [
      "2018-11-13 10:27:57,313 INFO opendr.lighting : LambertianPointLight using auto-normals. This will be slow for derivative-free computations.\n",
      "2018-11-13 10:27:57,323 INFO opendr.lighting : LambertianPointLight using auto-normals. This will be slow for derivative-free computations.\n",
      "2018-11-13 10:27:57,333 INFO opendr.lighting : LambertianPointLight using auto-normals. This will be slow for derivative-free computations.\n"
     ]
    }
   ],
   "source": []
  },
  {
   "cell_type": "code",
   "execution_count": 101,
   "metadata": {},
   "outputs": [
    {
     "data": {
      "text/plain": [
       "<matplotlib.image.AxesImage at 0x7fa6062b7810>"
      ]
     },
     "execution_count": 101,
     "metadata": {},
     "output_type": "execute_result"
    },
    {
     "data": {
      "image/png": "[encoded data removed]",
      "text/plain": [
       "<Figure size 432x288 with 1 Axes>"
      ]
     },
     "metadata": {},
     "output_type": "display_data"
    }
   ],
   "source": [
    "\n"
   ]
  },
  {
   "cell_type": "code",
   "execution_count": 94,
   "metadata": {},
   "outputs": [
    {
     "data": {
      "text/plain": [
       "255"
      ]
     },
     "execution_count": 94,
     "metadata": {},
     "output_type": "execute_result"
    }
   ],
   "source": []
  },
  {
   "cell_type": "code",
   "execution_count": 98,
   "metadata": {},
   "outputs": [
    {
     "data": {
      "text/plain": [
       "0.79951596"
      ]
     },
     "execution_count": 98,
     "metadata": {},
     "output_type": "execute_result"
    }
   ],
   "source": []
  },
  {
   "cell_type": "code",
   "execution_count": 60,
   "metadata": {},
   "outputs": [],
   "source": []
  },
  {
   "cell_type": "code",
   "execution_count": null,
   "metadata": {},
   "outputs": [],
   "source": []
  },
  {
   "cell_type": "code",
   "execution_count": null,
   "metadata": {},
   "outputs": [],
   "source": []
  },
  {
   "cell_type": "code",
   "execution_count": null,
   "metadata": {},
   "outputs": [],
   "source": []
  }
 ],
 "metadata": {
  "kernelspec": {
   "display_name": "Python 2",
   "language": "python",
   "name": "python2"
  },
  "language_info": {
   "codemirror_mode": {
    "name": "ipython",
    "version": 2
   },
   "file_extension": ".py",
   "mimetype": "text/x-python",
   "name": "python",
   "nbconvert_exporter": "python",
   "pygments_lexer": "ipython2",
   "version": "2.7.12"
  }
 },
 "nbformat": 4,
 "nbformat_minor": 2
}
